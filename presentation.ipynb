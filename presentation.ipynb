{
 "cells": [
  {
   "cell_type": "markdown",
   "id": "27cf4ed8",
   "metadata": {},
   "source": [
    "# Bereinigung der einzelnen Datensätze"
   ]
  },
  {
   "cell_type": "markdown",
   "id": "13d9f619",
   "metadata": {},
   "source": [
    "## Importieren der Datensätze und Pythonmodule"
   ]
  },
  {
   "cell_type": "code",
   "execution_count": 1,
   "id": "19626362",
   "metadata": {},
   "outputs": [],
   "source": [
    "import pandas as pd\n",
    "import numpy as np\n",
    "import matplotlib.pyplot as plt\n",
    "import scipy.stats as stats\n",
    "import statsmodels.api as sm\n",
    "\n",
    "df_besucher = pd.read_csv('data/besucher.csv', decimal = ',', sep = \";\")   \n",
    "df_kunden = pd.read_csv('data/kunden.csv', decimal = '.', sep = \";\")\n",
    "df_geo = pd.read_csv('data/geo.txt', decimal = '.', delimiter = \"\\t\")"
   ]
  },
  {
   "cell_type": "markdown",
   "id": "9c8767fe",
   "metadata": {},
   "source": [
    "### Bereinigung von df_geo"
   ]
  },
  {
   "cell_type": "code",
   "execution_count": 2,
   "id": "4dda0ddb",
   "metadata": {},
   "outputs": [
    {
     "data": {
      "text/plain": [
       "Niederlassung\n",
       "Baden-Württemberg        382\n",
       "Bayern                   338\n",
       "Nordrhein-Westfalen      322\n",
       "Berlin                   230\n",
       "Niedersachsen            169\n",
       "Hessen                   165\n",
       "Sachsen                  162\n",
       "Thüringen                 89\n",
       "Hamburg                   67\n",
       "Brandenburg               60\n",
       "NRW                        3\n",
       "Düsseldorf                 2\n",
       "Berlin-Charlottenburg      2\n",
       "Berlin-Mitte               2\n",
       "BERLIN                     2\n",
       "Name: count, dtype: int64"
      ]
     },
     "execution_count": 2,
     "metadata": {},
     "output_type": "execute_result"
    }
   ],
   "source": [
    "df_geo['Niederlassung'].value_counts()"
   ]
  },
  {
   "cell_type": "code",
   "execution_count": 3,
   "id": "dcaf7e14",
   "metadata": {},
   "outputs": [
    {
     "data": {
      "text/plain": [
       "Niederlassung\n",
       "Baden-Württemberg      382\n",
       "Bayern                 338\n",
       "Nordrhein-Westfalen    327\n",
       "Berlin                 236\n",
       "Niedersachsen          169\n",
       "Hessen                 165\n",
       "Sachsen                162\n",
       "Thüringen               89\n",
       "Hamburg                 67\n",
       "Brandenburg             60\n",
       "Name: count, dtype: int64"
      ]
     },
     "execution_count": 3,
     "metadata": {},
     "output_type": "execute_result"
    }
   ],
   "source": [
    "df_geo['Niederlassung']=df_geo['Niederlassung'].replace({'NRW':'Nordrhein-Westfalen'})\n",
    "df_geo['Niederlassung']=df_geo['Niederlassung'].replace({'Düsseldorf':'Nordrhein-Westfalen'})\n",
    "df_geo['Niederlassung']=df_geo['Niederlassung'].replace({'Berlin-Charlottenburg':'Berlin'})\n",
    "df_geo['Niederlassung']=df_geo['Niederlassung'].replace({'Berlin-Mitte':'Berlin'})\n",
    "df_geo['Niederlassung']=df_geo['Niederlassung'].replace({'BERLIN':'Berlin'})\n",
    "df_geo['Niederlassung'].value_counts()"
   ]
  },
  {
   "cell_type": "markdown",
   "id": "c0e9b857",
   "metadata": {},
   "source": [
    "### Bereinigung df_besucher (benötigt keine Bereinigung)"
   ]
  },
  {
   "cell_type": "code",
   "execution_count": 4,
   "id": "95a9edcf",
   "metadata": {
    "scrolled": true
   },
   "outputs": [
    {
     "data": {
      "text/plain": [
       "Alter         0\n",
       "Einkommen     0\n",
       "Geschlecht    0\n",
       "Zeit          0\n",
       "KundeNr       0\n",
       "dtype: int64"
      ]
     },
     "execution_count": 4,
     "metadata": {},
     "output_type": "execute_result"
    }
   ],
   "source": [
    "df_besucher.isnull().sum() #keine fehlenden Werte"
   ]
  },
  {
   "cell_type": "code",
   "execution_count": 5,
   "id": "4080d9ec",
   "metadata": {},
   "outputs": [
    {
     "name": "stdout",
     "output_type": "stream",
     "text": [
      "Empty DataFrame\n",
      "Columns: [Alter, Einkommen, Geschlecht, Zeit, KundeNr]\n",
      "Index: []\n",
      "Empty DataFrame\n",
      "Columns: [Alter, Einkommen, Geschlecht, Zeit, KundeNr]\n",
      "Index: []\n",
      "Empty DataFrame\n",
      "Columns: [Alter, Einkommen, Geschlecht, Zeit, KundeNr]\n",
      "Index: []\n"
     ]
    }
   ],
   "source": [
    "print(df_besucher[(29 >= df_besucher['Alter']) | (df_besucher['Alter'] >= 71)]) #keine unrealistischen Ausreißer\n",
    "print(df_besucher[(1000 >= df_besucher['Einkommen']) | (df_besucher['Einkommen'] >= 200000)]) #keine unrealistischen Ausreißer\n",
    "print(df_besucher[(1 >= df_besucher['Zeit']) | (df_besucher['Zeit'] >= 80)]) #keine unrealistischen Ausreißer"
   ]
  },
  {
   "cell_type": "markdown",
   "id": "e05b59fb",
   "metadata": {},
   "source": [
    "### Bereinigung df_kunden"
   ]
  },
  {
   "cell_type": "code",
   "execution_count": 6,
   "id": "75fdd6cb",
   "metadata": {
    "scrolled": false
   },
   "outputs": [
    {
     "data": {
      "text/plain": [
       "Alter         0\n",
       "Einkommen     0\n",
       "Preis         0\n",
       "Geschlecht    5\n",
       "Zeit          0\n",
       "KundeNr       0\n",
       "dtype: int64"
      ]
     },
     "execution_count": 6,
     "metadata": {},
     "output_type": "execute_result"
    }
   ],
   "source": [
    "df_kunden.isnull().sum()"
   ]
  },
  {
   "cell_type": "code",
   "execution_count": 7,
   "id": "51154ce1",
   "metadata": {
    "scrolled": false
   },
   "outputs": [
    {
     "data": {
      "text/plain": [
       "Alter         0\n",
       "Einkommen     0\n",
       "Preis         0\n",
       "Geschlecht    0\n",
       "Zeit          0\n",
       "KundeNr       0\n",
       "dtype: int64"
      ]
     },
     "execution_count": 7,
     "metadata": {},
     "output_type": "execute_result"
    }
   ],
   "source": [
    "geschlecht_modus = df_kunden['Geschlecht'].mode()[0]\n",
    "df_kunden['Geschlecht'] = df_kunden['Geschlecht'].fillna(geschlecht_modus)\n",
    "df_kunden.isnull().sum()"
   ]
  },
  {
   "cell_type": "code",
   "execution_count": 8,
   "id": "95c45e9a",
   "metadata": {
    "scrolled": true
   },
   "outputs": [
    {
     "name": "stdout",
     "output_type": "stream",
     "text": [
      "     Alter  Einkommen      Preis  Geschlecht  Zeit KundeNr\n",
      "142    100    88749.0  119134.23         0.0  64.0   K0494\n",
      "711    120    61857.0  104214.07         1.0  52.0   K0039\n",
      "      Alter     Einkommen      Preis  Geschlecht  Zeit KundeNr\n",
      "408      68  1.000000e+09   87209.72         0.0  52.0   K0701\n",
      "966      69  0.000000e+00  125140.05         1.0  65.0   K1021\n",
      "1082     59 -6.284037e+04   92837.59         0.0  46.0   K1083\n",
      "     Alter  Einkommen      Preis  Geschlecht  Zeit KundeNr\n",
      "313     62    96569.0  140745.65         0.0  80.0   K0249\n"
     ]
    }
   ],
   "source": [
    "print(df_kunden[(29 >= df_kunden['Alter']) | (df_kunden['Alter'] >= 71)]) #braucht korrektur\n",
    "print(df_kunden[(1000 >= df_kunden['Einkommen']) | (df_kunden['Einkommen'] >= 200000)]) #braucht korrektur\n",
    "print(df_kunden[(1 >= df_kunden['Zeit']) | (df_kunden['Zeit'] >= 80)]) #braucht keine korrektur"
   ]
  },
  {
   "cell_type": "code",
   "execution_count": 9,
   "id": "7280ef86",
   "metadata": {
    "scrolled": true
   },
   "outputs": [],
   "source": [
    "Q1_e = df_kunden['Einkommen'].quantile(0.25)\n",
    "Q3_e = df_kunden['Einkommen'].quantile(0.75)\n",
    "IQR_e = Q3_e - Q1_e\n",
    "untere_grenze_e  = Q1_e - 1.5 * IQR_e\n",
    "obere_grenze_e = Q3_e + 1.5 * IQR_e\n",
    "df_kunden['Ausreißer'] = (df_kunden['Einkommen'] < untere_grenze_e) | (df_kunden['Einkommen'] > obere_grenze_e).drop(834) #mit ca 107.689€ kein unrealistisches Einkommen\n",
    "df_kunden['Einkommen'].replace(list(df_kunden.loc[df_kunden['Ausreißer'] == True]['Einkommen']), df_kunden['Einkommen'].median(), inplace = True)\n",
    "df_kunden = df_kunden.drop('Ausreißer', axis = 1)"
   ]
  },
  {
   "cell_type": "code",
   "execution_count": 10,
   "id": "663ccc93",
   "metadata": {
    "scrolled": true
   },
   "outputs": [],
   "source": [
    "Q1_a = df_kunden['Alter'].quantile(0.25)\n",
    "Q3_a = df_kunden['Alter'].quantile(0.75)\n",
    "IQR_a = Q3_a - Q1_a\n",
    "untere_grenze_a  = Q1_a - 1.5 * IQR_a\n",
    "obere_grenze_a = Q3_a + 1.5 * IQR_a\n",
    "df_kunden['Ausreißer'] = (df_kunden['Alter'] < untere_grenze_a) | (df_kunden['Alter'] > obere_grenze_a)\n",
    "df_kunden[\"Alter\"].replace(list(df_kunden.loc[df_kunden[\"Ausreißer\"] == True][\"Alter\"]), df_kunden[\"Alter\"].median(), inplace = True)\n",
    "df_kunden = df_kunden.drop(\"Ausreißer\", axis = 1)"
   ]
  },
  {
   "cell_type": "code",
   "execution_count": 11,
   "id": "fb659a10",
   "metadata": {},
   "outputs": [
    {
     "name": "stdout",
     "output_type": "stream",
     "text": [
      "Empty DataFrame\n",
      "Columns: [Alter, Einkommen, Preis, Geschlecht, Zeit, KundeNr]\n",
      "Index: []\n",
      "Empty DataFrame\n",
      "Columns: [Alter, Einkommen, Preis, Geschlecht, Zeit, KundeNr]\n",
      "Index: []\n"
     ]
    }
   ],
   "source": [
    "print(df_kunden[(29 >= df_kunden['Alter']) | (df_kunden['Alter'] >= 71)]) #korrigiert\n",
    "print(df_kunden[(1000 >= df_kunden['Einkommen']) | (df_kunden['Einkommen'] >= 200000)]) #korrigiert"
   ]
  },
  {
   "cell_type": "markdown",
   "id": "f2032712",
   "metadata": {},
   "source": [
    "### Zusammenführung von besucher.csv und kunden.csv"
   ]
  },
  {
   "cell_type": "code",
   "execution_count": 12,
   "id": "fd4a71d4",
   "metadata": {},
   "outputs": [
    {
     "data": {
      "text/html": [
       "<div>\n",
       "<style scoped>\n",
       "    .dataframe tbody tr th:only-of-type {\n",
       "        vertical-align: middle;\n",
       "    }\n",
       "\n",
       "    .dataframe tbody tr th {\n",
       "        vertical-align: top;\n",
       "    }\n",
       "\n",
       "    .dataframe thead th {\n",
       "        text-align: right;\n",
       "    }\n",
       "</style>\n",
       "<table border=\"1\" class=\"dataframe\">\n",
       "  <thead>\n",
       "    <tr style=\"text-align: right;\">\n",
       "      <th></th>\n",
       "      <th>Alter</th>\n",
       "      <th>Einkommen</th>\n",
       "      <th>Geschlecht</th>\n",
       "      <th>Zeit</th>\n",
       "      <th>KundeNr</th>\n",
       "      <th>Preis</th>\n",
       "    </tr>\n",
       "  </thead>\n",
       "  <tbody>\n",
       "    <tr>\n",
       "      <th>1367</th>\n",
       "      <td>68</td>\n",
       "      <td>89437.00</td>\n",
       "      <td>1.0</td>\n",
       "      <td>62.0</td>\n",
       "      <td>K0001</td>\n",
       "      <td>114481.90</td>\n",
       "    </tr>\n",
       "    <tr>\n",
       "      <th>1783</th>\n",
       "      <td>58</td>\n",
       "      <td>65271.00</td>\n",
       "      <td>1.0</td>\n",
       "      <td>44.0</td>\n",
       "      <td>K0002</td>\n",
       "      <td>106258.99</td>\n",
       "    </tr>\n",
       "    <tr>\n",
       "      <th>1116</th>\n",
       "      <td>44</td>\n",
       "      <td>48195.00</td>\n",
       "      <td>1.0</td>\n",
       "      <td>29.0</td>\n",
       "      <td>K0003</td>\n",
       "      <td>85705.57</td>\n",
       "    </tr>\n",
       "    <tr>\n",
       "      <th>1065</th>\n",
       "      <td>37</td>\n",
       "      <td>48957.00</td>\n",
       "      <td>0.0</td>\n",
       "      <td>36.0</td>\n",
       "      <td>K0004</td>\n",
       "      <td>76412.36</td>\n",
       "    </tr>\n",
       "    <tr>\n",
       "      <th>1882</th>\n",
       "      <td>50</td>\n",
       "      <td>56621.00</td>\n",
       "      <td>0.0</td>\n",
       "      <td>40.0</td>\n",
       "      <td>K0005</td>\n",
       "      <td>92898.67</td>\n",
       "    </tr>\n",
       "    <tr>\n",
       "      <th>...</th>\n",
       "      <td>...</td>\n",
       "      <td>...</td>\n",
       "      <td>...</td>\n",
       "      <td>...</td>\n",
       "      <td>...</td>\n",
       "      <td>...</td>\n",
       "    </tr>\n",
       "    <tr>\n",
       "      <th>18</th>\n",
       "      <td>48</td>\n",
       "      <td>59967.31</td>\n",
       "      <td>1.0</td>\n",
       "      <td>21.0</td>\n",
       "      <td>K1991</td>\n",
       "      <td>NaN</td>\n",
       "    </tr>\n",
       "    <tr>\n",
       "      <th>799</th>\n",
       "      <td>67</td>\n",
       "      <td>81521.76</td>\n",
       "      <td>1.0</td>\n",
       "      <td>21.0</td>\n",
       "      <td>K1992</td>\n",
       "      <td>NaN</td>\n",
       "    </tr>\n",
       "    <tr>\n",
       "      <th>592</th>\n",
       "      <td>40</td>\n",
       "      <td>41616.57</td>\n",
       "      <td>0.0</td>\n",
       "      <td>48.0</td>\n",
       "      <td>K1993</td>\n",
       "      <td>NaN</td>\n",
       "    </tr>\n",
       "    <tr>\n",
       "      <th>72</th>\n",
       "      <td>49</td>\n",
       "      <td>76602.79</td>\n",
       "      <td>1.0</td>\n",
       "      <td>19.0</td>\n",
       "      <td>K1994</td>\n",
       "      <td>NaN</td>\n",
       "    </tr>\n",
       "    <tr>\n",
       "      <th>491</th>\n",
       "      <td>49</td>\n",
       "      <td>54754.53</td>\n",
       "      <td>1.0</td>\n",
       "      <td>44.0</td>\n",
       "      <td>K1995</td>\n",
       "      <td>NaN</td>\n",
       "    </tr>\n",
       "  </tbody>\n",
       "</table>\n",
       "<p>1995 rows × 6 columns</p>\n",
       "</div>"
      ],
      "text/plain": [
       "      Alter  Einkommen  Geschlecht  Zeit KundeNr      Preis\n",
       "1367     68   89437.00         1.0  62.0   K0001  114481.90\n",
       "1783     58   65271.00         1.0  44.0   K0002  106258.99\n",
       "1116     44   48195.00         1.0  29.0   K0003   85705.57\n",
       "1065     37   48957.00         0.0  36.0   K0004   76412.36\n",
       "1882     50   56621.00         0.0  40.0   K0005   92898.67\n",
       "...     ...        ...         ...   ...     ...        ...\n",
       "18       48   59967.31         1.0  21.0   K1991        NaN\n",
       "799      67   81521.76         1.0  21.0   K1992        NaN\n",
       "592      40   41616.57         0.0  48.0   K1993        NaN\n",
       "72       49   76602.79         1.0  19.0   K1994        NaN\n",
       "491      49   54754.53         1.0  44.0   K1995        NaN\n",
       "\n",
       "[1995 rows x 6 columns]"
      ]
     },
     "execution_count": 12,
     "metadata": {},
     "output_type": "execute_result"
    }
   ],
   "source": [
    "df_alle_ohneGEO = pd.concat([df_besucher,df_kunden], ignore_index=True,)\n",
    "df_alle_ohneGEO_sortiert = df_alle_ohneGEO.sort_values(by=['KundeNr'],ascending=True).round(decimals=2)\n",
    "\n",
    "df_alle_ohneGEO_sortiert"
   ]
  },
  {
   "cell_type": "markdown",
   "id": "4e64faa8",
   "metadata": {},
   "source": [
    "### Zusammenführung von geo.txt und df_alle_ohneGEO"
   ]
  },
  {
   "cell_type": "code",
   "execution_count": 13,
   "id": "d83e3f47",
   "metadata": {
    "scrolled": false
   },
   "outputs": [
    {
     "data": {
      "text/html": [
       "<div>\n",
       "<style scoped>\n",
       "    .dataframe tbody tr th:only-of-type {\n",
       "        vertical-align: middle;\n",
       "    }\n",
       "\n",
       "    .dataframe tbody tr th {\n",
       "        vertical-align: top;\n",
       "    }\n",
       "\n",
       "    .dataframe thead th {\n",
       "        text-align: right;\n",
       "    }\n",
       "</style>\n",
       "<table border=\"1\" class=\"dataframe\">\n",
       "  <thead>\n",
       "    <tr style=\"text-align: right;\">\n",
       "      <th></th>\n",
       "      <th>Alter</th>\n",
       "      <th>Einkommen</th>\n",
       "      <th>Geschlecht</th>\n",
       "      <th>Zeit</th>\n",
       "      <th>Preis</th>\n",
       "      <th>Niederlassung</th>\n",
       "    </tr>\n",
       "    <tr>\n",
       "      <th>KundeNr</th>\n",
       "      <th></th>\n",
       "      <th></th>\n",
       "      <th></th>\n",
       "      <th></th>\n",
       "      <th></th>\n",
       "      <th></th>\n",
       "    </tr>\n",
       "  </thead>\n",
       "  <tbody>\n",
       "    <tr>\n",
       "      <th>K0001</th>\n",
       "      <td>68</td>\n",
       "      <td>89437.00</td>\n",
       "      <td>1.0</td>\n",
       "      <td>62.0</td>\n",
       "      <td>114481.90</td>\n",
       "      <td>Sachsen</td>\n",
       "    </tr>\n",
       "    <tr>\n",
       "      <th>K0002</th>\n",
       "      <td>58</td>\n",
       "      <td>65271.00</td>\n",
       "      <td>1.0</td>\n",
       "      <td>44.0</td>\n",
       "      <td>106258.99</td>\n",
       "      <td>Nordrhein-Westfalen</td>\n",
       "    </tr>\n",
       "    <tr>\n",
       "      <th>K0003</th>\n",
       "      <td>44</td>\n",
       "      <td>48195.00</td>\n",
       "      <td>1.0</td>\n",
       "      <td>29.0</td>\n",
       "      <td>85705.57</td>\n",
       "      <td>Hessen</td>\n",
       "    </tr>\n",
       "    <tr>\n",
       "      <th>K0004</th>\n",
       "      <td>37</td>\n",
       "      <td>48957.00</td>\n",
       "      <td>0.0</td>\n",
       "      <td>36.0</td>\n",
       "      <td>76412.36</td>\n",
       "      <td>Bayern</td>\n",
       "    </tr>\n",
       "    <tr>\n",
       "      <th>K0005</th>\n",
       "      <td>50</td>\n",
       "      <td>56621.00</td>\n",
       "      <td>0.0</td>\n",
       "      <td>40.0</td>\n",
       "      <td>92898.67</td>\n",
       "      <td>Bayern</td>\n",
       "    </tr>\n",
       "    <tr>\n",
       "      <th>...</th>\n",
       "      <td>...</td>\n",
       "      <td>...</td>\n",
       "      <td>...</td>\n",
       "      <td>...</td>\n",
       "      <td>...</td>\n",
       "      <td>...</td>\n",
       "    </tr>\n",
       "    <tr>\n",
       "      <th>K1991</th>\n",
       "      <td>48</td>\n",
       "      <td>59967.31</td>\n",
       "      <td>1.0</td>\n",
       "      <td>21.0</td>\n",
       "      <td>NaN</td>\n",
       "      <td>Hessen</td>\n",
       "    </tr>\n",
       "    <tr>\n",
       "      <th>K1992</th>\n",
       "      <td>67</td>\n",
       "      <td>81521.76</td>\n",
       "      <td>1.0</td>\n",
       "      <td>21.0</td>\n",
       "      <td>NaN</td>\n",
       "      <td>Baden-Württemberg</td>\n",
       "    </tr>\n",
       "    <tr>\n",
       "      <th>K1993</th>\n",
       "      <td>40</td>\n",
       "      <td>41616.57</td>\n",
       "      <td>0.0</td>\n",
       "      <td>48.0</td>\n",
       "      <td>NaN</td>\n",
       "      <td>Nordrhein-Westfalen</td>\n",
       "    </tr>\n",
       "    <tr>\n",
       "      <th>K1994</th>\n",
       "      <td>49</td>\n",
       "      <td>76602.79</td>\n",
       "      <td>1.0</td>\n",
       "      <td>19.0</td>\n",
       "      <td>NaN</td>\n",
       "      <td>Berlin</td>\n",
       "    </tr>\n",
       "    <tr>\n",
       "      <th>K1995</th>\n",
       "      <td>49</td>\n",
       "      <td>54754.53</td>\n",
       "      <td>1.0</td>\n",
       "      <td>44.0</td>\n",
       "      <td>NaN</td>\n",
       "      <td>Berlin</td>\n",
       "    </tr>\n",
       "  </tbody>\n",
       "</table>\n",
       "<p>1995 rows × 6 columns</p>\n",
       "</div>"
      ],
      "text/plain": [
       "         Alter  Einkommen  Geschlecht  Zeit      Preis        Niederlassung\n",
       "KundeNr                                                                    \n",
       "K0001       68   89437.00         1.0  62.0  114481.90              Sachsen\n",
       "K0002       58   65271.00         1.0  44.0  106258.99  Nordrhein-Westfalen\n",
       "K0003       44   48195.00         1.0  29.0   85705.57               Hessen\n",
       "K0004       37   48957.00         0.0  36.0   76412.36               Bayern\n",
       "K0005       50   56621.00         0.0  40.0   92898.67               Bayern\n",
       "...        ...        ...         ...   ...        ...                  ...\n",
       "K1991       48   59967.31         1.0  21.0        NaN               Hessen\n",
       "K1992       67   81521.76         1.0  21.0        NaN    Baden-Württemberg\n",
       "K1993       40   41616.57         0.0  48.0        NaN  Nordrhein-Westfalen\n",
       "K1994       49   76602.79         1.0  19.0        NaN               Berlin\n",
       "K1995       49   54754.53         1.0  44.0        NaN               Berlin\n",
       "\n",
       "[1995 rows x 6 columns]"
      ]
     },
     "execution_count": 13,
     "metadata": {},
     "output_type": "execute_result"
    }
   ],
   "source": [
    "df_final= pd.merge(df_alle_ohneGEO_sortiert,df_geo,on='KundeNr', how='outer').set_index('KundeNr')\n",
    "df_final"
   ]
  },
  {
   "cell_type": "markdown",
   "id": "a089c857",
   "metadata": {},
   "source": [
    "### F1 Wie viele Autos wurden verkauft"
   ]
  },
  {
   "cell_type": "code",
   "execution_count": 14,
   "id": "8d265672",
   "metadata": {},
   "outputs": [
    {
     "name": "stdout",
     "output_type": "stream",
     "text": [
      "Es wurden insgesamt 1104 Autos verkauft.\n"
     ]
    }
   ],
   "source": [
    "print(\"Es wurden insgesamt \" +str(len(df_kunden.index))+ \" Autos verkauft.\")"
   ]
  },
  {
   "cell_type": "markdown",
   "id": "40c05e0f",
   "metadata": {},
   "source": [
    "### F2 Höchst-, Mindest- und Durchschnittspreis der verkauften Autos"
   ]
  },
  {
   "cell_type": "code",
   "execution_count": 15,
   "id": "fd5daa02",
   "metadata": {},
   "outputs": [
    {
     "name": "stdout",
     "output_type": "stream",
     "text": [
      " Der maximale Betrag für einen Autokauf betrug 165482.31€.\n",
      " Der minimale Betrag für einen Autokauf betrug 21471.65€.\n",
      " Der Durchschnittspreis betrug 88975.2€.\n"
     ]
    }
   ],
   "source": [
    "df_max_preis = df_final['Preis'].max()\n",
    "df_min_preis = df_final['Preis'].min()\n",
    "df_mean_preis = df_final['Preis'].mean().round(2)\n",
    "print(f\"\"\" Der maximale Betrag für einen Autokauf betrug {df_max_preis}€.\n",
    " Der minimale Betrag für einen Autokauf betrug {df_min_preis}€.\n",
    " Der Durchschnittspreis betrug {df_mean_preis}€.\"\"\")"
   ]
  },
  {
   "cell_type": "markdown",
   "id": "7299b043",
   "metadata": {},
   "source": [
    "### F3"
   ]
  },
  {
   "cell_type": "code",
   "execution_count": 16,
   "id": "ffb28c38",
   "metadata": {},
   "outputs": [
    {
     "name": "stdout",
     "output_type": "stream",
     "text": [
      "98228619.38\n"
     ]
    }
   ],
   "source": [
    "Gesamtumsatz = df_final['Preis'].sum()\n",
    "print(Gesamtumsatz)"
   ]
  },
  {
   "cell_type": "markdown",
   "id": "b17cc998",
   "metadata": {},
   "source": [
    "### F4 Wie viele Autos wurden pro Bundesland verkauft?"
   ]
  },
  {
   "cell_type": "code",
   "execution_count": 17,
   "id": "25cad98e",
   "metadata": {},
   "outputs": [
    {
     "name": "stdout",
     "output_type": "stream",
     "text": [
      "Niederlassung\n",
      "Baden-Württemberg      205\n",
      "Bayern                 188\n",
      "Nordrhein-Westfalen    175\n",
      "Berlin                 126\n",
      "Hessen                  96\n",
      "Niedersachsen           96\n",
      "Sachsen                 89\n",
      "Thüringen               49\n",
      "Hamburg                 43\n",
      "Brandenburg             37\n",
      "Name: count, dtype: int64\n"
     ]
    }
   ],
   "source": [
    "df_sold = df_final[df_final['Preis'].notnull()]\n",
    "sales_per_state = df_sold['Niederlassung'].value_counts()\n",
    "print(sales_per_state)"
   ]
  },
  {
   "cell_type": "markdown",
   "id": "db9f2e41",
   "metadata": {},
   "source": [
    "### F5 durchschnittlicher Umsatz pro Bundesland"
   ]
  },
  {
   "cell_type": "code",
   "execution_count": 18,
   "id": "aae00131",
   "metadata": {},
   "outputs": [
    {
     "data": {
      "text/html": [
       "<div>\n",
       "<style scoped>\n",
       "    .dataframe tbody tr th:only-of-type {\n",
       "        vertical-align: middle;\n",
       "    }\n",
       "\n",
       "    .dataframe tbody tr th {\n",
       "        vertical-align: top;\n",
       "    }\n",
       "\n",
       "    .dataframe thead th {\n",
       "        text-align: right;\n",
       "    }\n",
       "</style>\n",
       "<table border=\"1\" class=\"dataframe\">\n",
       "  <thead>\n",
       "    <tr style=\"text-align: right;\">\n",
       "      <th></th>\n",
       "      <th>durchschnittlicher Umsatz</th>\n",
       "    </tr>\n",
       "  </thead>\n",
       "  <tbody>\n",
       "    <tr>\n",
       "      <th>Baden-Württemberg</th>\n",
       "      <td>90969.56€</td>\n",
       "    </tr>\n",
       "    <tr>\n",
       "      <th>Bayern</th>\n",
       "      <td>89344.31€</td>\n",
       "    </tr>\n",
       "    <tr>\n",
       "      <th>Nordrhein-Westfalen</th>\n",
       "      <td>88633.27€</td>\n",
       "    </tr>\n",
       "    <tr>\n",
       "      <th>Berlin</th>\n",
       "      <td>89584.98€</td>\n",
       "    </tr>\n",
       "    <tr>\n",
       "      <th>Niedersachsen</th>\n",
       "      <td>87963.31€</td>\n",
       "    </tr>\n",
       "    <tr>\n",
       "      <th>Hessen</th>\n",
       "      <td>85864.93€</td>\n",
       "    </tr>\n",
       "    <tr>\n",
       "      <th>Sachsen</th>\n",
       "      <td>89455.08€</td>\n",
       "    </tr>\n",
       "    <tr>\n",
       "      <th>Thüringen</th>\n",
       "      <td>90816.99€</td>\n",
       "    </tr>\n",
       "    <tr>\n",
       "      <th>Hamburg</th>\n",
       "      <td>85549.5€</td>\n",
       "    </tr>\n",
       "    <tr>\n",
       "      <th>Brandenburg</th>\n",
       "      <td>86673.64€</td>\n",
       "    </tr>\n",
       "  </tbody>\n",
       "</table>\n",
       "</div>"
      ],
      "text/plain": [
       "                    durchschnittlicher Umsatz\n",
       "Baden-Württemberg                   90969.56€\n",
       "Bayern                              89344.31€\n",
       "Nordrhein-Westfalen                 88633.27€\n",
       "Berlin                              89584.98€\n",
       "Niedersachsen                       87963.31€\n",
       "Hessen                              85864.93€\n",
       "Sachsen                             89455.08€\n",
       "Thüringen                           90816.99€\n",
       "Hamburg                              85549.5€\n",
       "Brandenburg                         86673.64€"
      ]
     },
     "execution_count": 18,
     "metadata": {},
     "output_type": "execute_result"
    }
   ],
   "source": [
    "bundesländer = pd.Series([\"Baden-Württemberg\", \"Bayern\", \"Nordrhein-Westfalen\", \"Berlin\", \"Niedersachsen\", \"Hessen\", \"Sachsen\", \"Thüringen\", \"Hamburg\", \"Brandenburg\"])\n",
    "mean_rev_bl = []\n",
    "\n",
    "for i in bundesländer:\n",
    "    mean_rev_bl.append(f'{df_final.loc[df_final.Niederlassung == i, \"Preis\"].mean().round(2)}€')\n",
    "\n",
    "mean_rev_bl_pd = pd.Series(mean_rev_bl)\n",
    "df_mean_rev_bl = pd.concat([mean_rev_bl_pd], axis = 1).set_index(bundesländer)\n",
    "df_mean_rev_bl.columns = ['durchschnittlicher Umsatz']\n",
    "df_mean_rev_bl"
   ]
  },
  {
   "cell_type": "code",
   "execution_count": 19,
   "id": "24bda097",
   "metadata": {},
   "outputs": [
    {
     "data": {
      "image/png": "[encoded data removed]",
      "text/plain": [
       "<Figure size 640x480 with 1 Axes>"
      ]
     },
     "metadata": {},
     "output_type": "display_data"
    }
   ],
   "source": [
    "bundesländer = [\"Baden-Württemberg\", \"Bayern\", \"Nordrhein-Westfalen\", \"Berlin\", \"Niedersachsen\", \"Hessen\", \"Sachsen\", \"Thüringen\", \"Hamburg\", \"Brandenburg\"]\n",
    "mean_rev_bl = []\n",
    "\n",
    "for i in bundesländer:\n",
    "    w = mean_rev_bl.append(df_final.loc[df_final.Niederlassung == i, 'Preis'].mean())\n",
    "\n",
    "plt.barh(bundesländer, mean_rev_bl)\n",
    "plt.title (\"durchschnittlicher Umsatz pro Bundesland\")\n",
    "plt.xlabel('durchschnittlicher Umsatz in Euro')\n",
    "plt.show()\n"
   ]
  },
  {
   "cell_type": "markdown",
   "id": "adddd0a7",
   "metadata": {},
   "source": [
    "### F6"
   ]
  },
  {
   "cell_type": "code",
   "execution_count": 20,
   "id": "51e6d540",
   "metadata": {
    "scrolled": true
   },
   "outputs": [
    {
     "name": "stdout",
     "output_type": "stream",
     "text": [
      "Niedersachsen\n"
     ]
    }
   ],
   "source": [
    "# Finde Index des Kunden mit maximalen Preis\n",
    "index_MaxPreis = df_final['Preis'].idxmax()\n",
    "print(df_final.loc[index_MaxPreis]['Niederlassung'])"
   ]
  },
  {
   "cell_type": "markdown",
   "id": "2e49a8f7",
   "metadata": {},
   "source": [
    "### F8 Durchschnittsalter unserer Kunden/Besucher (UNBEREINIGT)"
   ]
  },
  {
   "cell_type": "code",
   "execution_count": 21,
   "id": "9c5e2cce",
   "metadata": {},
   "outputs": [
    {
     "name": "stdout",
     "output_type": "stream",
     "text": [
      "Die Kunden sind durchschnittlich 50.38 Jahre alt.\n",
      "Die Besucher sind durchschnittlich 49.88 Jahre alt.\n"
     ]
    }
   ],
   "source": [
    "print(f\"\"\"Die Kunden sind durchschnittlich {df_kunden['Alter'].mean().round(2)} Jahre alt.\n",
    "Die Besucher sind durchschnittlich {df_besucher['Alter'].mean().round(2)} Jahre alt.\"\"\")"
   ]
  },
  {
   "cell_type": "markdown",
   "id": "1930f943",
   "metadata": {},
   "source": [
    "### F9"
   ]
  },
  {
   "cell_type": "code",
   "execution_count": 22,
   "id": "4f4ab1f7",
   "metadata": {
    "scrolled": true
   },
   "outputs": [
    {
     "name": "stdout",
     "output_type": "stream",
     "text": [
      "Die Kunden haben ein durchschniitliches Einkommen von 58895.0 Euro.\n",
      "Die Besucher haben ein durchschnittliches Einkommen von 59367.94 Euro.\n"
     ]
    }
   ],
   "source": [
    "print(f\"\"\"Die Kunden haben ein durchschniitliches Einkommen von {df_kunden['Einkommen'].mean().round(2)} Euro.\n",
    "Die Besucher haben ein durchschnittliches Einkommen von {df_besucher['Einkommen'].mean().round(2)} Euro.\"\"\")"
   ]
  },
  {
   "cell_type": "markdown",
   "id": "d44d40b1",
   "metadata": {},
   "source": [
    "### F10"
   ]
  },
  {
   "cell_type": "code",
   "execution_count": null,
   "id": "a86a9774",
   "metadata": {},
   "outputs": [],
   "source": []
  },
  {
   "cell_type": "markdown",
   "id": "662f1d5c",
   "metadata": {},
   "source": [
    "### F11 Korrelation zwischen Alter, Einkommen, Preis und Zeit"
   ]
  },
  {
   "cell_type": "code",
   "execution_count": 23,
   "id": "2eb221bb",
   "metadata": {},
   "outputs": [
    {
     "name": "stdout",
     "output_type": "stream",
     "text": [
      "\n",
      "Pearson-Korrelation zwischen Alter und Einkommen:  0.761553 - geringe vernachlässigbare Korrelation\n",
      "Pearson-Korrelation zwischen Alter und Preis:      0.780478 - hohe Korrelation\n",
      "Pearson-Korrelation zwischen Alter und Zeit:       0.588912   - mittlere Korrelation\n",
      "Pearson-Korrelation zwischen Einkommen und Preis: 0.896557 - geringe vernachlässigbare Korrelation\n",
      "Pearson-Korrelation zwischen Einkommen und Zeit:   0.776198 - geringe vernachlässigbare Korrelation\n",
      "Pearson-Korrelation zwischen Preis und Zeit:       0.707778 - hohe Korrelation\n"
     ]
    }
   ],
   "source": [
    "corr_a_e = df_kunden['Alter'].corr(df_kunden['Einkommen']).round(6)\n",
    "corr_a_p = df_kunden['Alter'].corr(df_kunden['Preis']).round(6)\n",
    "corr_a_z = df_kunden['Alter'].corr(df_kunden['Zeit']).round(6)\n",
    "corr_e_p = df_kunden['Einkommen'].corr(df_kunden['Preis']).round(6)\n",
    "corr_e_z = df_kunden['Einkommen'].corr(df_kunden['Zeit']).round(6)\n",
    "corr_p_z = df_kunden['Preis'].corr(df_kunden['Zeit']).round(6)   \n",
    "    \n",
    "print(f'''\n",
    "Pearson-Korrelation zwischen Alter und Einkommen:  {corr_a_e} - geringe vernachlässigbare Korrelation\n",
    "Pearson-Korrelation zwischen Alter und Preis:      {corr_a_p} - hohe Korrelation\n",
    "Pearson-Korrelation zwischen Alter und Zeit:       {corr_a_z}   - mittlere Korrelation\n",
    "Pearson-Korrelation zwischen Einkommen und Preis: {corr_e_p} - geringe vernachlässigbare Korrelation\n",
    "Pearson-Korrelation zwischen Einkommen und Zeit:   {corr_e_z} - geringe vernachlässigbare Korrelation\n",
    "Pearson-Korrelation zwischen Preis und Zeit:       {corr_p_z} - hohe Korrelation''')"
   ]
  },
  {
   "cell_type": "markdown",
   "id": "b51d5077",
   "metadata": {},
   "source": [
    "### F12"
   ]
  },
  {
   "cell_type": "code",
   "execution_count": 24,
   "id": "cf5e7d3a",
   "metadata": {
    "scrolled": false
   },
   "outputs": [
    {
     "data": {
      "image/png": "[encoded data removed]",
      "text/plain": [
       "<Figure size 640x480 with 1 Axes>"
      ]
     },
     "metadata": {},
     "output_type": "display_data"
    }
   ],
   "source": [
    "stats.probplot(df_final['Zeit'], dist=\"norm\", plot=plt)\n",
    "plt.title('QQ-Plot für die Variable Zeit')\n",
    "plt.xlabel('Theoretische Quantile')\n",
    "plt.ylabel('Daten-Quantile')\n",
    "plt.grid(True)\n",
    "plt.show()"
   ]
  },
  {
   "cell_type": "markdown",
   "id": "632ba297",
   "metadata": {},
   "source": [
    "### F13"
   ]
  },
  {
   "cell_type": "code",
   "execution_count": 25,
   "id": "ffd2ee5b",
   "metadata": {},
   "outputs": [
    {
     "name": "stdout",
     "output_type": "stream",
     "text": [
      "Die Anzahl der Kunden, die einen Kredit aufnehmen mussten ist 1099.\n"
     ]
    }
   ],
   "source": [
    "print(\"Die Anzahl der Kunden, die einen Kredit aufnehmen mussten ist \" + str(sum((df_kunden['Preis'] >= df_kunden['Einkommen'])))+\".\")"
   ]
  },
  {
   "cell_type": "markdown",
   "id": "46d2fb96",
   "metadata": {},
   "source": [
    "### F14 Einfluss sozioökonomischer Merkmale auf den Kaufpreis"
   ]
  },
  {
   "cell_type": "code",
   "execution_count": 26,
   "id": "a07d4744",
   "metadata": {},
   "outputs": [],
   "source": [
    "XVar = df_final.drop([\"Preis\", \"Niederlassung\"], axis = 1)\n",
    "YVar = df_final[[\"Preis\"]]\n",
    "linearModel = sm.OLS(YVar, XVar)"
   ]
  },
  {
   "cell_type": "markdown",
   "id": "a0b5626f",
   "metadata": {},
   "source": [
    "# Datei speichern"
   ]
  },
  {
   "cell_type": "code",
   "execution_count": 27,
   "id": "db61be37",
   "metadata": {},
   "outputs": [],
   "source": [
    "#df_final.to_csv('.\\data\\df_final.csv')"
   ]
  }
 ],
 "metadata": {
  "kernelspec": {
   "display_name": "Python 3 (ipykernel)",
   "language": "python",
   "name": "python3"
  },
  "language_info": {
   "codemirror_mode": {
    "name": "ipython",
    "version": 3
   },
   "file_extension": ".py",
   "mimetype": "text/x-python",
   "name": "python",
   "nbconvert_exporter": "python",
   "pygments_lexer": "ipython3",
   "version": "3.11.7"
  }
 },
 "nbformat": 4,
 "nbformat_minor": 5
}
