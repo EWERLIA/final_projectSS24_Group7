{
 "cells": [
  {
   "cell_type": "markdown",
   "id": "27cf4ed8",
   "metadata": {},
   "source": [
    "# Bereinigung der einzelnen Datensätze"
   ]
  },
  {
   "cell_type": "markdown",
   "id": "13d9f619",
   "metadata": {},
   "source": [
    "## Importieren der Datensätze und Pythonmodule"
   ]
  },
  {
   "cell_type": "code",
   "execution_count": 1,
   "id": "19626362",
   "metadata": {},
   "outputs": [],
   "source": [
    "import pandas as pd\n",
    "import numpy as np\n",
    "\n",
    "df_besucher = pd.read_csv('data/besucher.csv', decimal = ',', sep = \";\")   \n",
    "df_kunden = pd.read_csv('data/kunden.csv', decimal = '.', sep = \";\")\n",
    "df_geo = pd.read_csv('data/geo.txt', decimal = '.', delimiter = \"\\t\")"
   ]
  },
  {
   "cell_type": "markdown",
   "id": "9c8767fe",
   "metadata": {},
   "source": [
    "### Bereinigung von df_geo"
   ]
  },
  {
   "cell_type": "code",
   "execution_count": 2,
   "id": "4dda0ddb",
   "metadata": {},
   "outputs": [
    {
     "data": {
      "text/plain": [
       "Niederlassung\n",
       "Baden-Württemberg        382\n",
       "Bayern                   338\n",
       "Nordrhein-Westfalen      322\n",
       "Berlin                   230\n",
       "Niedersachsen            169\n",
       "Hessen                   165\n",
       "Sachsen                  162\n",
       "Thüringen                 89\n",
       "Hamburg                   67\n",
       "Brandenburg               60\n",
       "NRW                        3\n",
       "Düsseldorf                 2\n",
       "Berlin-Charlottenburg      2\n",
       "Berlin-Mitte               2\n",
       "BERLIN                     2\n",
       "Name: count, dtype: int64"
      ]
     },
     "execution_count": 2,
     "metadata": {},
     "output_type": "execute_result"
    }
   ],
   "source": [
    "df_geo['Niederlassung'].value_counts()"
   ]
  },
  {
   "cell_type": "code",
   "execution_count": 3,
   "id": "dcaf7e14",
   "metadata": {
    "scrolled": true
   },
   "outputs": [
    {
     "data": {
      "text/plain": [
       "Niederlassung\n",
       "Baden-Württemberg      382\n",
       "Bayern                 338\n",
       "Nordrhein-Westfalen    327\n",
       "Berlin                 236\n",
       "Niedersachsen          169\n",
       "Hessen                 165\n",
       "Sachsen                162\n",
       "Thüringen               89\n",
       "Hamburg                 67\n",
       "Brandenburg             60\n",
       "Name: count, dtype: int64"
      ]
     },
     "execution_count": 3,
     "metadata": {},
     "output_type": "execute_result"
    }
   ],
   "source": [
    "df_geo['Niederlassung']=df_geo['Niederlassung'].replace({'NRW':'Nordrhein-Westfalen'})\n",
    "df_geo['Niederlassung']=df_geo['Niederlassung'].replace({'Düsseldorf':'Nordrhein-Westfalen'})\n",
    "df_geo['Niederlassung']=df_geo['Niederlassung'].replace({'Berlin-Charlottenburg':'Berlin'})\n",
    "df_geo['Niederlassung']=df_geo['Niederlassung'].replace({'Berlin-Mitte':'Berlin'})\n",
    "df_geo['Niederlassung']=df_geo['Niederlassung'].replace({'BERLIN':'Berlin'})\n",
    "df_geo['Niederlassung'].value_counts()"
   ]
  },
  {
   "cell_type": "markdown",
   "id": "c0e9b857",
   "metadata": {},
   "source": [
    "### Betrachtung Fehler bei Kunden und Besucher"
   ]
  },
  {
   "cell_type": "code",
   "execution_count": 56,
   "id": "75fdd6cb",
   "metadata": {},
   "outputs": [
    {
     "data": {
      "text/plain": [
       "Alter         0\n",
       "Einkommen     0\n",
       "Preis         0\n",
       "Geschlecht    5\n",
       "Zeit          0\n",
       "KundeNr       0\n",
       "dtype: int64"
      ]
     },
     "execution_count": 56,
     "metadata": {},
     "output_type": "execute_result"
    }
   ],
   "source": [
    "df_kunden.isnull().sum()"
   ]
  },
  {
   "cell_type": "code",
   "execution_count": 5,
   "id": "95a9edcf",
   "metadata": {},
   "outputs": [
    {
     "data": {
      "text/plain": [
       "Alter         0\n",
       "Einkommen     0\n",
       "Geschlecht    0\n",
       "Zeit          0\n",
       "KundeNr       0\n",
       "dtype: int64"
      ]
     },
     "execution_count": 5,
     "metadata": {},
     "output_type": "execute_result"
    }
   ],
   "source": [
    "df_besucher.isnull().sum()\n",
    "# df_besucher.dtypes"
   ]
  },
  {
   "cell_type": "markdown",
   "id": "f2032712",
   "metadata": {},
   "source": [
    "### Zusammenführung von besucher.csv und kunden.csv"
   ]
  },
  {
   "cell_type": "code",
   "execution_count": 57,
   "id": "fd4a71d4",
   "metadata": {},
   "outputs": [
    {
     "data": {
      "text/html": [
       "<div>\n",
       "<style scoped>\n",
       "    .dataframe tbody tr th:only-of-type {\n",
       "        vertical-align: middle;\n",
       "    }\n",
       "\n",
       "    .dataframe tbody tr th {\n",
       "        vertical-align: top;\n",
       "    }\n",
       "\n",
       "    .dataframe thead th {\n",
       "        text-align: right;\n",
       "    }\n",
       "</style>\n",
       "<table border=\"1\" class=\"dataframe\">\n",
       "  <thead>\n",
       "    <tr style=\"text-align: right;\">\n",
       "      <th></th>\n",
       "      <th>Alter</th>\n",
       "      <th>Einkommen</th>\n",
       "      <th>Geschlecht</th>\n",
       "      <th>Zeit</th>\n",
       "      <th>KundeNr</th>\n",
       "      <th>Preis</th>\n",
       "    </tr>\n",
       "  </thead>\n",
       "  <tbody>\n",
       "    <tr>\n",
       "      <th>1367</th>\n",
       "      <td>68</td>\n",
       "      <td>89437.00</td>\n",
       "      <td>1.0</td>\n",
       "      <td>62.0</td>\n",
       "      <td>K0001</td>\n",
       "      <td>114481.90</td>\n",
       "    </tr>\n",
       "    <tr>\n",
       "      <th>1783</th>\n",
       "      <td>58</td>\n",
       "      <td>65271.00</td>\n",
       "      <td>1.0</td>\n",
       "      <td>44.0</td>\n",
       "      <td>K0002</td>\n",
       "      <td>106258.99</td>\n",
       "    </tr>\n",
       "    <tr>\n",
       "      <th>1116</th>\n",
       "      <td>44</td>\n",
       "      <td>48195.00</td>\n",
       "      <td>1.0</td>\n",
       "      <td>29.0</td>\n",
       "      <td>K0003</td>\n",
       "      <td>85705.57</td>\n",
       "    </tr>\n",
       "    <tr>\n",
       "      <th>1065</th>\n",
       "      <td>37</td>\n",
       "      <td>48957.00</td>\n",
       "      <td>0.0</td>\n",
       "      <td>36.0</td>\n",
       "      <td>K0004</td>\n",
       "      <td>76412.36</td>\n",
       "    </tr>\n",
       "    <tr>\n",
       "      <th>1882</th>\n",
       "      <td>50</td>\n",
       "      <td>56621.00</td>\n",
       "      <td>0.0</td>\n",
       "      <td>40.0</td>\n",
       "      <td>K0005</td>\n",
       "      <td>92898.67</td>\n",
       "    </tr>\n",
       "    <tr>\n",
       "      <th>...</th>\n",
       "      <td>...</td>\n",
       "      <td>...</td>\n",
       "      <td>...</td>\n",
       "      <td>...</td>\n",
       "      <td>...</td>\n",
       "      <td>...</td>\n",
       "    </tr>\n",
       "    <tr>\n",
       "      <th>18</th>\n",
       "      <td>48</td>\n",
       "      <td>59967.31</td>\n",
       "      <td>1.0</td>\n",
       "      <td>21.0</td>\n",
       "      <td>K1991</td>\n",
       "      <td>NaN</td>\n",
       "    </tr>\n",
       "    <tr>\n",
       "      <th>799</th>\n",
       "      <td>67</td>\n",
       "      <td>81521.76</td>\n",
       "      <td>1.0</td>\n",
       "      <td>21.0</td>\n",
       "      <td>K1992</td>\n",
       "      <td>NaN</td>\n",
       "    </tr>\n",
       "    <tr>\n",
       "      <th>592</th>\n",
       "      <td>40</td>\n",
       "      <td>41616.57</td>\n",
       "      <td>0.0</td>\n",
       "      <td>48.0</td>\n",
       "      <td>K1993</td>\n",
       "      <td>NaN</td>\n",
       "    </tr>\n",
       "    <tr>\n",
       "      <th>72</th>\n",
       "      <td>49</td>\n",
       "      <td>76602.79</td>\n",
       "      <td>1.0</td>\n",
       "      <td>19.0</td>\n",
       "      <td>K1994</td>\n",
       "      <td>NaN</td>\n",
       "    </tr>\n",
       "    <tr>\n",
       "      <th>491</th>\n",
       "      <td>49</td>\n",
       "      <td>54754.53</td>\n",
       "      <td>1.0</td>\n",
       "      <td>44.0</td>\n",
       "      <td>K1995</td>\n",
       "      <td>NaN</td>\n",
       "    </tr>\n",
       "  </tbody>\n",
       "</table>\n",
       "<p>1995 rows × 6 columns</p>\n",
       "</div>"
      ],
      "text/plain": [
       "      Alter  Einkommen  Geschlecht  Zeit KundeNr      Preis\n",
       "1367     68   89437.00         1.0  62.0   K0001  114481.90\n",
       "1783     58   65271.00         1.0  44.0   K0002  106258.99\n",
       "1116     44   48195.00         1.0  29.0   K0003   85705.57\n",
       "1065     37   48957.00         0.0  36.0   K0004   76412.36\n",
       "1882     50   56621.00         0.0  40.0   K0005   92898.67\n",
       "...     ...        ...         ...   ...     ...        ...\n",
       "18       48   59967.31         1.0  21.0   K1991        NaN\n",
       "799      67   81521.76         1.0  21.0   K1992        NaN\n",
       "592      40   41616.57         0.0  48.0   K1993        NaN\n",
       "72       49   76602.79         1.0  19.0   K1994        NaN\n",
       "491      49   54754.53         1.0  44.0   K1995        NaN\n",
       "\n",
       "[1995 rows x 6 columns]"
      ]
     },
     "execution_count": 57,
     "metadata": {},
     "output_type": "execute_result"
    }
   ],
   "source": [
    "df_alle_ohneGEO = pd.concat([df_besucher,df_kunden], ignore_index=True,)\n",
    "df_alle_ohneGEO_sortiert = df_alle_ohneGEO.sort_values(by=['KundeNr'],ascending=True).round(decimals=2)\n",
    "\n",
    "df_alle_ohneGEO_sortiert"
   ]
  },
  {
   "cell_type": "markdown",
   "id": "4e64faa8",
   "metadata": {},
   "source": [
    "### Zusammenführung von geo.txt und df_alle_ohneGEO"
   ]
  },
  {
   "cell_type": "code",
   "execution_count": 7,
   "id": "d83e3f47",
   "metadata": {
    "scrolled": true
   },
   "outputs": [
    {
     "data": {
      "text/html": [
       "<div>\n",
       "<style scoped>\n",
       "    .dataframe tbody tr th:only-of-type {\n",
       "        vertical-align: middle;\n",
       "    }\n",
       "\n",
       "    .dataframe tbody tr th {\n",
       "        vertical-align: top;\n",
       "    }\n",
       "\n",
       "    .dataframe thead th {\n",
       "        text-align: right;\n",
       "    }\n",
       "</style>\n",
       "<table border=\"1\" class=\"dataframe\">\n",
       "  <thead>\n",
       "    <tr style=\"text-align: right;\">\n",
       "      <th></th>\n",
       "      <th>Alter</th>\n",
       "      <th>Einkommen</th>\n",
       "      <th>Geschlecht</th>\n",
       "      <th>Zeit</th>\n",
       "      <th>Preis</th>\n",
       "      <th>Niederlassung</th>\n",
       "    </tr>\n",
       "    <tr>\n",
       "      <th>KundeNr</th>\n",
       "      <th></th>\n",
       "      <th></th>\n",
       "      <th></th>\n",
       "      <th></th>\n",
       "      <th></th>\n",
       "      <th></th>\n",
       "    </tr>\n",
       "  </thead>\n",
       "  <tbody>\n",
       "    <tr>\n",
       "      <th>K0001</th>\n",
       "      <td>68</td>\n",
       "      <td>89437.00</td>\n",
       "      <td>1.0</td>\n",
       "      <td>62.0</td>\n",
       "      <td>114481.90</td>\n",
       "      <td>Sachsen</td>\n",
       "    </tr>\n",
       "    <tr>\n",
       "      <th>K0002</th>\n",
       "      <td>58</td>\n",
       "      <td>65271.00</td>\n",
       "      <td>1.0</td>\n",
       "      <td>44.0</td>\n",
       "      <td>106258.99</td>\n",
       "      <td>Nordrhein-Westfalen</td>\n",
       "    </tr>\n",
       "    <tr>\n",
       "      <th>K0003</th>\n",
       "      <td>44</td>\n",
       "      <td>48195.00</td>\n",
       "      <td>1.0</td>\n",
       "      <td>29.0</td>\n",
       "      <td>85705.57</td>\n",
       "      <td>Hessen</td>\n",
       "    </tr>\n",
       "    <tr>\n",
       "      <th>K0004</th>\n",
       "      <td>37</td>\n",
       "      <td>48957.00</td>\n",
       "      <td>0.0</td>\n",
       "      <td>36.0</td>\n",
       "      <td>76412.36</td>\n",
       "      <td>Bayern</td>\n",
       "    </tr>\n",
       "    <tr>\n",
       "      <th>K0005</th>\n",
       "      <td>50</td>\n",
       "      <td>56621.00</td>\n",
       "      <td>0.0</td>\n",
       "      <td>40.0</td>\n",
       "      <td>92898.67</td>\n",
       "      <td>Bayern</td>\n",
       "    </tr>\n",
       "    <tr>\n",
       "      <th>...</th>\n",
       "      <td>...</td>\n",
       "      <td>...</td>\n",
       "      <td>...</td>\n",
       "      <td>...</td>\n",
       "      <td>...</td>\n",
       "      <td>...</td>\n",
       "    </tr>\n",
       "    <tr>\n",
       "      <th>K1991</th>\n",
       "      <td>48</td>\n",
       "      <td>59967.31</td>\n",
       "      <td>1.0</td>\n",
       "      <td>21.0</td>\n",
       "      <td>NaN</td>\n",
       "      <td>Hessen</td>\n",
       "    </tr>\n",
       "    <tr>\n",
       "      <th>K1992</th>\n",
       "      <td>67</td>\n",
       "      <td>81521.76</td>\n",
       "      <td>1.0</td>\n",
       "      <td>21.0</td>\n",
       "      <td>NaN</td>\n",
       "      <td>Baden-Württemberg</td>\n",
       "    </tr>\n",
       "    <tr>\n",
       "      <th>K1993</th>\n",
       "      <td>40</td>\n",
       "      <td>41616.57</td>\n",
       "      <td>0.0</td>\n",
       "      <td>48.0</td>\n",
       "      <td>NaN</td>\n",
       "      <td>Nordrhein-Westfalen</td>\n",
       "    </tr>\n",
       "    <tr>\n",
       "      <th>K1994</th>\n",
       "      <td>49</td>\n",
       "      <td>76602.79</td>\n",
       "      <td>1.0</td>\n",
       "      <td>19.0</td>\n",
       "      <td>NaN</td>\n",
       "      <td>Berlin</td>\n",
       "    </tr>\n",
       "    <tr>\n",
       "      <th>K1995</th>\n",
       "      <td>49</td>\n",
       "      <td>54754.53</td>\n",
       "      <td>1.0</td>\n",
       "      <td>44.0</td>\n",
       "      <td>NaN</td>\n",
       "      <td>Berlin</td>\n",
       "    </tr>\n",
       "  </tbody>\n",
       "</table>\n",
       "<p>1995 rows × 6 columns</p>\n",
       "</div>"
      ],
      "text/plain": [
       "         Alter  Einkommen  Geschlecht  Zeit      Preis        Niederlassung\n",
       "KundeNr                                                                    \n",
       "K0001       68   89437.00         1.0  62.0  114481.90              Sachsen\n",
       "K0002       58   65271.00         1.0  44.0  106258.99  Nordrhein-Westfalen\n",
       "K0003       44   48195.00         1.0  29.0   85705.57               Hessen\n",
       "K0004       37   48957.00         0.0  36.0   76412.36               Bayern\n",
       "K0005       50   56621.00         0.0  40.0   92898.67               Bayern\n",
       "...        ...        ...         ...   ...        ...                  ...\n",
       "K1991       48   59967.31         1.0  21.0        NaN               Hessen\n",
       "K1992       67   81521.76         1.0  21.0        NaN    Baden-Württemberg\n",
       "K1993       40   41616.57         0.0  48.0        NaN  Nordrhein-Westfalen\n",
       "K1994       49   76602.79         1.0  19.0        NaN               Berlin\n",
       "K1995       49   54754.53         1.0  44.0        NaN               Berlin\n",
       "\n",
       "[1995 rows x 6 columns]"
      ]
     },
     "execution_count": 7,
     "metadata": {},
     "output_type": "execute_result"
    }
   ],
   "source": [
    "df_final= pd.merge(df_alle_ohneGEO_sortiert,df_geo,on='KundeNr', how='outer').set_index('KundeNr')\n",
    "df_final"
   ]
  },
  {
   "cell_type": "markdown",
   "id": "7299b043",
   "metadata": {},
   "source": [
    "### F3"
   ]
  },
  {
   "cell_type": "code",
   "execution_count": 8,
   "id": "ffb28c38",
   "metadata": {},
   "outputs": [
    {
     "name": "stdout",
     "output_type": "stream",
     "text": [
      "98228619.38\n"
     ]
    }
   ],
   "source": [
    "Gesamtumsatz = df_final['Preis'].sum()\n",
    "print(Gesamtumsatz)"
   ]
  },
  {
   "cell_type": "markdown",
   "id": "adddd0a7",
   "metadata": {},
   "source": [
    "### F6"
   ]
  },
  {
   "cell_type": "code",
   "execution_count": 30,
   "id": "51e6d540",
   "metadata": {},
   "outputs": [
    {
     "name": "stdout",
     "output_type": "stream",
     "text": [
      "Niedersachsen\n"
     ]
    }
   ],
   "source": [
    "# Finde Index des Kunden mit maximalen Preis\n",
    "index_MaxPreis = df_final['Preis'].idxmax()\n",
    "print(df_final.loc[index_MaxPreis][5])"
   ]
  },
  {
   "cell_type": "markdown",
   "id": "1930f943",
   "metadata": {},
   "source": [
    "### F9"
   ]
  },
  {
   "cell_type": "code",
   "execution_count": 54,
   "id": "4f4ab1f7",
   "metadata": {},
   "outputs": [
    {
     "name": "stdout",
     "output_type": "stream",
     "text": [
      "KundeNr\n",
      "K0001    89437.0\n",
      "K0002    65271.0\n",
      "K0003    48195.0\n",
      "K0004    48957.0\n",
      "K0005    56621.0\n",
      "          ...   \n",
      "K1100    82624.0\n",
      "K1101    37905.0\n",
      "K1102    40159.0\n",
      "K1103    45545.0\n",
      "K1104    80414.0\n",
      "Name: Einkommen, Length: 1104, dtype: float64\n",
      "Das Durchschnittseinkommen unserer Kunden ist: 560239.1126065163\n",
      "Das Durchschnittseinkommen unserer Besucher ist: nan\n"
     ]
    }
   ],
   "source": [
    "DurchschnittseinkommenKunden = df_final.loc[df_final['Preis'] != 'NaN','Einkommen'].mean()\n",
    "print(df_final.loc[df_final['Preis'] >= 0, 'Einkommen'])\n",
    "print('Das Durchschnittseinkommen unserer Kunden ist: '+ str(DurchschnittseinkommenKunden))\n",
    "\n",
    "DurchschnittseinkommenBesucher = df_final.loc[df_final['Preis'] == 'NaN','Einkommen'].mean()\n",
    "print('Das Durchschnittseinkommen unserer Besucher ist: '+ str(DurchschnittseinkommenBesucher))"
   ]
  },
  {
   "cell_type": "code",
   "execution_count": null,
   "id": "0951d276",
   "metadata": {},
   "outputs": [],
   "source": []
  },
  {
   "cell_type": "code",
   "execution_count": 41,
   "id": "fbc0c8e5",
   "metadata": {},
   "outputs": [
    {
     "data": {
      "text/plain": [
       "Alter              int64\n",
       "Einkommen        float64\n",
       "Geschlecht       float64\n",
       "Zeit             float64\n",
       "Preis            float64\n",
       "Niederlassung     object\n",
       "dtype: object"
      ]
     },
     "execution_count": 41,
     "metadata": {},
     "output_type": "execute_result"
    }
   ],
   "source": [
    "df_final.dtypes"
   ]
  },
  {
   "cell_type": "code",
   "execution_count": null,
   "id": "2eb221bb",
   "metadata": {},
   "outputs": [],
   "source": []
  }
 ],
 "metadata": {
  "kernelspec": {
   "display_name": "Python 3 (ipykernel)",
   "language": "python",
   "name": "python3"
  },
  "language_info": {
   "codemirror_mode": {
    "name": "ipython",
    "version": 3
   },
   "file_extension": ".py",
   "mimetype": "text/x-python",
   "name": "python",
   "nbconvert_exporter": "python",
   "pygments_lexer": "ipython3",
   "version": "3.11.5"
  }
 },
 "nbformat": 4,
 "nbformat_minor": 5
}
